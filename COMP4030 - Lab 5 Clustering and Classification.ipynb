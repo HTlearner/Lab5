{
 "cells": [
  {
   "cell_type": "markdown",
   "id": "personal-royal",
   "metadata": {},
   "source": [
    "# COMP4030 - Data Science and Machine Learning\n",
    "\n",
    "# Clustering and Classification\n"
   ]
  },
  {
   "cell_type": "markdown",
   "id": "seven-stations",
   "metadata": {},
   "source": [
    "**Topics from last labs you absolutely need to be familiar with**:\n",
    "\n",
    "- how to conduct exploratory data analysis on a given dataset\n",
    "- understand basic statistical descriptors and visualising statistical relationships\n",
    "- data cleaning techniques\n",
    "- normalisation\n"
   ]
  },
  {
   "cell_type": "code",
   "execution_count": 3,
   "id": "stock-omega",
   "metadata": {
    "collapsed": true
   },
   "outputs": [
    {
     "name": "stdout",
     "output_type": "stream",
     "text": [
      "Requirement already satisfied: pyclustering in c:\\users\\pszpc1\\anaconda3\\lib\\site-packages (0.10.1.2)\n",
      "Requirement already satisfied: Pillow>=5.2.0 in c:\\users\\pszpc1\\anaconda3\\lib\\site-packages (from pyclustering) (9.2.0)\n",
      "Requirement already satisfied: scipy>=1.1.0 in c:\\users\\pszpc1\\anaconda3\\lib\\site-packages (from pyclustering) (1.9.1)\n",
      "Requirement already satisfied: matplotlib>=3.0.0 in c:\\users\\pszpc1\\anaconda3\\lib\\site-packages (from pyclustering) (3.5.2)\n",
      "Requirement already satisfied: numpy>=1.15.2 in c:\\users\\pszpc1\\anaconda3\\lib\\site-packages (from pyclustering) (1.21.5)\n",
      "Requirement already satisfied: cycler>=0.10 in c:\\users\\pszpc1\\anaconda3\\lib\\site-packages (from matplotlib>=3.0.0->pyclustering) (0.11.0)\n",
      "Requirement already satisfied: pyparsing>=2.2.1 in c:\\users\\pszpc1\\anaconda3\\lib\\site-packages (from matplotlib>=3.0.0->pyclustering) (3.0.9)\n",
      "Requirement already satisfied: python-dateutil>=2.7 in c:\\users\\pszpc1\\anaconda3\\lib\\site-packages (from matplotlib>=3.0.0->pyclustering) (2.8.2)\n",
      "Requirement already satisfied: fonttools>=4.22.0 in c:\\users\\pszpc1\\anaconda3\\lib\\site-packages (from matplotlib>=3.0.0->pyclustering) (4.25.0)\n",
      "Requirement already satisfied: packaging>=20.0 in c:\\users\\pszpc1\\anaconda3\\lib\\site-packages (from matplotlib>=3.0.0->pyclustering) (21.3)\n",
      "Requirement already satisfied: kiwisolver>=1.0.1 in c:\\users\\pszpc1\\anaconda3\\lib\\site-packages (from matplotlib>=3.0.0->pyclustering) (1.4.2)\n",
      "Requirement already satisfied: six>=1.5 in c:\\users\\pszpc1\\anaconda3\\lib\\site-packages (from python-dateutil>=2.7->matplotlib>=3.0.0->pyclustering) (1.16.0)\n",
      "Requirement already satisfied: yellowbrick in c:\\users\\pszpc1\\anaconda3\\lib\\site-packages (1.5)\n",
      "Requirement already satisfied: cycler>=0.10.0 in c:\\users\\pszpc1\\anaconda3\\lib\\site-packages (from yellowbrick) (0.11.0)\n",
      "Requirement already satisfied: scipy>=1.0.0 in c:\\users\\pszpc1\\anaconda3\\lib\\site-packages (from yellowbrick) (1.9.1)\n",
      "Requirement already satisfied: scikit-learn>=1.0.0 in c:\\users\\pszpc1\\anaconda3\\lib\\site-packages (from yellowbrick) (1.0.2)\n",
      "Requirement already satisfied: matplotlib!=3.0.0,>=2.0.2 in c:\\users\\pszpc1\\anaconda3\\lib\\site-packages (from yellowbrick) (3.5.2)\n",
      "Requirement already satisfied: numpy>=1.16.0 in c:\\users\\pszpc1\\anaconda3\\lib\\site-packages (from yellowbrick) (1.21.5)\n",
      "Requirement already satisfied: pyparsing>=2.2.1 in c:\\users\\pszpc1\\anaconda3\\lib\\site-packages (from matplotlib!=3.0.0,>=2.0.2->yellowbrick) (3.0.9)\n",
      "Requirement already satisfied: packaging>=20.0 in c:\\users\\pszpc1\\anaconda3\\lib\\site-packages (from matplotlib!=3.0.0,>=2.0.2->yellowbrick) (21.3)\n",
      "Requirement already satisfied: kiwisolver>=1.0.1 in c:\\users\\pszpc1\\anaconda3\\lib\\site-packages (from matplotlib!=3.0.0,>=2.0.2->yellowbrick) (1.4.2)\n",
      "Requirement already satisfied: python-dateutil>=2.7 in c:\\users\\pszpc1\\anaconda3\\lib\\site-packages (from matplotlib!=3.0.0,>=2.0.2->yellowbrick) (2.8.2)\n",
      "Requirement already satisfied: fonttools>=4.22.0 in c:\\users\\pszpc1\\anaconda3\\lib\\site-packages (from matplotlib!=3.0.0,>=2.0.2->yellowbrick) (4.25.0)\n",
      "Requirement already satisfied: pillow>=6.2.0 in c:\\users\\pszpc1\\anaconda3\\lib\\site-packages (from matplotlib!=3.0.0,>=2.0.2->yellowbrick) (9.2.0)\n",
      "Requirement already satisfied: threadpoolctl>=2.0.0 in c:\\users\\pszpc1\\anaconda3\\lib\\site-packages (from scikit-learn>=1.0.0->yellowbrick) (2.2.0)\n",
      "Requirement already satisfied: joblib>=0.11 in c:\\users\\pszpc1\\anaconda3\\lib\\site-packages (from scikit-learn>=1.0.0->yellowbrick) (1.1.0)\n",
      "Requirement already satisfied: six>=1.5 in c:\\users\\pszpc1\\anaconda3\\lib\\site-packages (from python-dateutil>=2.7->matplotlib!=3.0.0,>=2.0.2->yellowbrick) (1.16.0)\n"
     ]
    }
   ],
   "source": [
    "import matplotlib.pyplot as plt\n",
    "import pandas as pd\n",
    "import seaborn as sns\n",
    "!pip install pyclustering\n",
    "!pip install yellowbrick"
   ]
  },
  {
   "cell_type": "markdown",
   "id": "80084c4a",
   "metadata": {},
   "source": [
    "# Exercises to try out different Clustering algorithms\n",
    "\n",
    "## Read up on the following before doing the tasks\n",
    "\n",
    "#### Clustering\n",
    "https://scikit-learn.org/stable/modules/clustering.html\n",
    "\n",
    "### Principal Component Analysis\n",
    "https://scikit-learn.org/stable/modules/decomposition.html#decompositions\n",
    "\n",
    "### Silhouette score\n",
    "https://scikit-learn.org/stable/modules/generated/sklearn.metrics.silhouette_score.html\n",
    "\n",
    "### Distance measures\n",
    "https://scikit-learn.org/stable/modules/generated/sklearn.metrics.DistanceMetric.html"
   ]
  },
  {
   "cell_type": "markdown",
   "id": "introductory-denial",
   "metadata": {},
   "source": [
    "**Task 1**: \n",
    "- Load the cars dataset and apply the k-means clustering algorithm. \n",
    "- Experiment with different numbers of clusters and report the silhouette score. \n",
    "- Use a scatter plot to visualise the clustering results for the different numbers of clusters.\n",
    "\n",
    "#### More information on K-means Clustering https://scikit-learn.org/stable/modules/generated/sklearn.cluster.KMeans.html#sklearn.cluster.KMeans"
   ]
  },
  {
   "cell_type": "code",
   "execution_count": null,
   "id": "stopped-reconstruction",
   "metadata": {},
   "outputs": [],
   "source": []
  },
  {
   "cell_type": "markdown",
   "id": "amended-choice",
   "metadata": {},
   "source": [
    "**Task 2**: \n",
    "- Load the iris dataset from scikit-learn and perform k-means clustering to group the iris flowers into different clusters based on their features. \n",
    "- Use the elbow method to determine the optimal number of clusters. \n",
    "\n",
    "#### You can use the KElbowVisualizer Object from the Yellowbrick library https://www.scikit-yb.org/en/latest/api/cluster/elbow.html"
   ]
  },
  {
   "cell_type": "code",
   "execution_count": null,
   "id": "descending-worthy",
   "metadata": {},
   "outputs": [],
   "source": []
  },
  {
   "cell_type": "markdown",
   "id": "natural-people",
   "metadata": {},
   "source": [
    "**Task 3**: \n",
    "- Load the wine dataset from scikit-learn and perform hierarchical clustering to group the wines into different clusters based on their features. \n",
    "- Experiment with different linkage methods and report the silhouette score. \n",
    "- Use dendrogram visualisation to analyze the clustering results.\n",
    "\n",
    "#### More information on Hierarchical Clustering https://scikit-learn.org/stable/modules/clustering.html#hierarchical-clustering\n",
    "#### Wine dataset https://scikit-learn.org/stable/modules/generated/sklearn.datasets.load_wine.html"
   ]
  },
  {
   "cell_type": "code",
   "execution_count": null,
   "id": "potential-glucose",
   "metadata": {},
   "outputs": [],
   "source": []
  },
  {
   "cell_type": "markdown",
   "id": "desperate-makeup",
   "metadata": {},
   "source": [
    "**Task 4**: \n",
    "- Load the diabetes dataset and apply the DBSCAN clustering algorithm to group the data points into different clusters based on their proximity to each other.\n",
    "- Experiment with different epsilon (eps) and minimum samples (min_samples) values and report the silhouette score. \n",
    "- Use a scatter plot to visualise the clustering results for the different values of epsilon and minimum samples.\n",
    "\n",
    "#### More information on DBSCAN https://scikit-learn.org/stable/modules/clustering.html#dbscan\n",
    "#### More information on eps and min_samples https://scikit-learn.org/stable/modules/generated/sklearn.cluster.DBSCAN.html#sklearn.cluster.DBSCAN\n",
    "#### Diabetes dataset https://www.kaggle.com/datasets/mathchi/diabetes-data-set"
   ]
  },
  {
   "cell_type": "code",
   "execution_count": null,
   "id": "distinct-monster",
   "metadata": {},
   "outputs": [],
   "source": []
  },
  {
   "cell_type": "markdown",
   "id": "adf21ed9",
   "metadata": {},
   "source": [
    "**Task 5**: \n",
    "- Load the Wisconsin breast cancer dataset and apply the K-means clustering algorithm \n",
    "- Experiment with different numbers of cluster and report the silhouette score. \n",
    "- Use a scatter plot to visualise the clustering results for the different numbers of clusters, what do can you say about the dataset/features compared with the previous task. \n",
    "- Try using PCA and then compare again. Also try Heirarchical Clustering. \n",
    "\n",
    "#### Wisconsin Breast Cancer Dataset https://www.kaggle.com/datasets/uciml/breast-cancer-wisconsin-data"
   ]
  },
  {
   "cell_type": "code",
   "execution_count": null,
   "id": "6605accf",
   "metadata": {},
   "outputs": [],
   "source": []
  },
  {
   "cell_type": "markdown",
   "id": "0e5894af",
   "metadata": {},
   "source": [
    "# Exercises to try out different Classification algorithms\n",
    "\n",
    "### Read up on the following before doing the tasks\n",
    "\n",
    "### Precision - Recall\n",
    "https://scikit-learn.org/stable/auto_examples/model_selection/plot_precision_recall.html#sphx-glr-auto-examples-model-selection-plot-precision-recall-py \n",
    "\n",
    "### ROC curves\n",
    "https://scikit-learn.org/stable/auto_examples/model_selection/plot_roc_crossval.html#sphx-glr-auto-examples-model-selection-plot-roc-crossval-py\n",
    "\n",
    "### Confusion Matrix\n",
    "https://scikit-learn.org/stable/modules/generated/sklearn.metrics.confusion_matrix.html#sklearn.metrics.confusion_matrix\n",
    "\n",
    "### N-fold Cross Validation\n",
    "https://scikit-learn.org/stable/modules/cross_validation.html\n"
   ]
  },
  {
   "cell_type": "markdown",
   "id": "cb81c0ff",
   "metadata": {},
   "source": [
    "**Task 6**: \n",
    "- Load the iris dataset from scikit-learn and split it into training and testing sets. \n",
    "- Train a decision tree model to classify the different types of iris flowers based on their features. \n",
    "- Use the graphviz library to visualise the decision tree \n",
    "\n",
    "#### More information on Decision Trees https://scikit-learn.org/stable/modules/tree.html"
   ]
  },
  {
   "cell_type": "code",
   "execution_count": null,
   "id": "0ebae126",
   "metadata": {},
   "outputs": [],
   "source": []
  },
  {
   "cell_type": "markdown",
   "id": "f288f56c",
   "metadata": {},
   "source": [
    "**Task 7**: \n",
    "- Load the cars dataset and split it into training and testing sets. \n",
    "- Apply the k-nearest neighbours (KNN) algorithm with different values of k and find the accuracy, precision and recall.\n",
    "- Use a confusion matrix to compare the performance of the different values of k.\n",
    "\n",
    "#### More information on Nearest Neighbour Classification https://scikit-learn.org/stable/modules/neighbors.html"
   ]
  },
  {
   "cell_type": "code",
   "execution_count": null,
   "id": "9a6c9e7e",
   "metadata": {},
   "outputs": [],
   "source": []
  },
  {
   "cell_type": "markdown",
   "id": "treated-desktop",
   "metadata": {},
   "source": [
    "**Task 8**: \n",
    "- Load the Wisconsin breast cancer dataset from scikit-learn and split it into training and testing sets. \n",
    "- Train a support vector machine (SVM) model to classify the tumors as malignant or benign based on their features. \n",
    "- Evaluate the precision, recall of the model on the testing set\n",
    "- Experiment with different kernel functions and report the accuracy, precision and recall.\n",
    "- Use a confusion matrix and ROC curve to compare the performance of the different kernels.\n",
    "\n",
    "#### More information on Support Vector Machines: https://scikit-learn.org/stable/modules/svm.html#"
   ]
  },
  {
   "cell_type": "code",
   "execution_count": null,
   "id": "christian-level",
   "metadata": {},
   "outputs": [],
   "source": []
  },
  {
   "cell_type": "markdown",
   "id": "36157a36",
   "metadata": {},
   "source": [
    "**Task 9**: \n",
    "- Load the digits dataset from scikit-learn and split it into training and testing sets. \n",
    "- Train a Random Forest model to classify the handwritten digits based on their pixel values. \n",
    "- Evaluate the accuracy of the model on the testing set.\n",
    "\n",
    "#### More information on Random Forest Classifiers https://scikit-learn.org/stable/modules/generated/sklearn.ensemble.RandomForestClassifier.html#sklearn.ensemble.RandomForestClassifier \n",
    "\n",
    "#### Digits Dataset https://scikit-learn.org/stable/modules/generated/sklearn.datasets.load_digits.html"
   ]
  },
  {
   "cell_type": "code",
   "execution_count": null,
   "id": "709262ae",
   "metadata": {},
   "outputs": [],
   "source": []
  },
  {
   "cell_type": "markdown",
   "id": "dfec47eb",
   "metadata": {},
   "source": [
    "**Task 10**: \n",
    "- Load the wine dataset and use an artificial neural network (multi-layer perceptron - MLP) for classification, splitting the data into a training and test set.\n",
    "- Experiment with different number of neurons in a single hidden layer using sigmoid activation functions and report the accuracy, precision and recall for different number of neurons on the training set. \n",
    "- Use a confusion matrix to compare the performance of the MLP with the optimal number of neurons for different number of iterations.\n",
    "\n",
    "#### More information on MLPs https://scikit-learn.org/stable/modules/neural_networks_supervised.html"
   ]
  },
  {
   "cell_type": "code",
   "execution_count": null,
   "id": "f78ba377",
   "metadata": {},
   "outputs": [],
   "source": []
  },
  {
   "cell_type": "markdown",
   "id": "00671c19",
   "metadata": {},
   "source": [
    "# Refine your models and analysis\n"
   ]
  },
  {
   "cell_type": "markdown",
   "id": "4ed74f6a",
   "metadata": {},
   "source": [
    "**Task 11**: \n",
    "- Experiment with other different hyperparameters of each algorithm such as:\n",
    "    - learning rate\n",
    "    - number of neighbours\n",
    "    - maximum depth of the tree\n",
    "    - kernel functions, etc."
   ]
  },
  {
   "cell_type": "code",
   "execution_count": null,
   "id": "3102a370",
   "metadata": {},
   "outputs": [],
   "source": []
  },
  {
   "cell_type": "markdown",
   "id": "b2d119cd",
   "metadata": {},
   "source": [
    "**Task 12**: \n",
    "- Use cross-validation to validate the performance of each algorithm and select the best hyperparameters."
   ]
  },
  {
   "cell_type": "code",
   "execution_count": null,
   "id": "620d7a5b",
   "metadata": {},
   "outputs": [],
   "source": []
  },
  {
   "cell_type": "markdown",
   "id": "f21363bf",
   "metadata": {},
   "source": [
    "**Task 13**: \n",
    "- Use feature selection techniques such as PCA and correlation analysis to select the most relevant features for each dataset.\n",
    "- repeat the clustering and classification tasks, comparing the performance of different algorithms using different evaluation metrics such as appropriate:\n",
    "    - accuracy\n",
    "    - precision\n",
    "    - recall\n",
    "    - ROC curve\n",
    "    - silhouette score"
   ]
  },
  {
   "cell_type": "code",
   "execution_count": null,
   "id": "1ed61e47",
   "metadata": {},
   "outputs": [],
   "source": []
  },
  {
   "cell_type": "markdown",
   "id": "cfac30df",
   "metadata": {},
   "source": [
    "**Task 14**: \n",
    "- Visualise the clustering results using scatter plots, dendrograms, or other visualisation techniques to gain insights into the structure of the data."
   ]
  },
  {
   "cell_type": "code",
   "execution_count": null,
   "id": "f50cdcdf",
   "metadata": {},
   "outputs": [],
   "source": []
  }
 ],
 "metadata": {
  "kernelspec": {
   "display_name": "Python 3.9.13 ('base')",
   "language": "python",
   "name": "python3"
  },
  "language_info": {
   "codemirror_mode": {
    "name": "ipython",
    "version": 3
   },
   "file_extension": ".py",
   "mimetype": "text/x-python",
   "name": "python",
   "nbconvert_exporter": "python",
   "pygments_lexer": "ipython3",
   "version": "3.9.13"
  },
  "vscode": {
   "interpreter": {
    "hash": "e4cce46d6be9934fbd27f9ca0432556941ea5bdf741d4f4d64c6cd7f8dfa8fba"
   }
  }
 },
 "nbformat": 4,
 "nbformat_minor": 5
}
